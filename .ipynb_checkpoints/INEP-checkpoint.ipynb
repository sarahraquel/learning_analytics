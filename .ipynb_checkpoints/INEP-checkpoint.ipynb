{
 "cells": [
  {
   "cell_type": "markdown",
   "metadata": {},
   "source": [
    "# Objetivo:\n",
    "\n",
    "1)Mostre médias, medianas, modas e desvio padrão\n",
    "\n",
    "2)Mostre números mínimos e máximos, de pelo menos duas variáveis, e suas amplitudes\n",
    "\n",
    "3)Pelo menos dois gráficos de Barras (Sarah - ok)\n",
    "\n",
    "4)Pelo menos dois gráficos de Linhas (Sarah - ok)\n",
    "\n",
    "5)Pelo menos dois gráficos Blox Pot\n",
    "\n",
    "6)Pelo menos dois gráficos de Correlação (Rafael - pendente)\n",
    "\n",
    "Para cada item acima justifique as informações escolhidas e explique os resultados obtidos\n",
    "(considerando os conceitos discutidos em sala de aula).\n",
    "\n"
   ]
  },
  {
   "cell_type": "markdown",
   "metadata": {},
   "source": [
    "**Precisamos definir dados a serem analisados** <br />\n",
    "Enquanto eles não foram definidos pela equipe, comecei a fazer uma análise para verificar se a relação entre alunos ingressantes x concluintes é diferente nas regiões do Brasil. \n",
    "<br /> **Sugestões de dados a serem analisados:::::** <br />\n",
    "\n"
   ]
  },
  {
   "cell_type": "code",
   "execution_count": 1,
   "metadata": {
    "collapsed": true
   },
   "outputs": [],
   "source": [
    "# Funções para visualização dos dados\n",
    "\n",
    "from matplotlib import pyplot as plt\n",
    "import numpy as np\n",
    "\n",
    "def generate_bar_graph(title, x, y, xlabel,ylabel):\n",
    "    plt.bar(x, y)\n",
    "    plt.title(title)\n",
    "    plt.xlabel(xlabel)\n",
    "    plt.ylabel(ylabel)\n",
    "    plt.show()\n",
    "\n",
    "def generate_many_line_graph(title, x, y, z, xlabel, ylabel):\n",
    "    plt.plot(x, y, color=\"green\", marker=\"o\", linestyle='solid')\n",
    "    plt.plot(x, z, color=\"blue\", marker=\"o\", linestyle='solid')\n",
    "    plt.title(title)\n",
    "    plt.xlabel(xlabel)\n",
    "    plt.ylabel(ylabel)\n",
    "    plt.show()\n",
    "    \n",
    "def generate_line_graph(title, x, y, xlabel, ylabel):\n",
    "    plt.plot(x, y, color=\"green\", marker=\"o\", linestyle='solid')\n",
    "    plt.title(title)\n",
    "    plt.xlabel(xlabel)\n",
    "    plt.ylabel(ylabel)\n",
    "    plt.show()\n",
    "\n",
    "def get_media(array):\n",
    "    return np.mean(array)\n",
    "\n",
    "def get_median(array):\n",
    "    return np.median(array)\n",
    "\n",
    "def get_mode(array):\n",
    "    return np.bincount(array).argmax()\n",
    "\n",
    "def plota_barra_linha(title, x, y, z, xlabel, ylabel):\n",
    "    plt.xlabel(xlabel)\n",
    "    plt.ylabel(ylabel)\n",
    "    plt.title(title)\n",
    "    plt.bar(x, y, color=\"black\", align='center')                 \n",
    "    plt.plot(x, z, color=\"green\", marker='o', linestyle='--', linewidth=2)\n",
    "    plt.show()\n",
    "    \n",
    "def plota_grafico_dispersao(titulo, x, y, xlabel, ylabel):\n",
    "    plt.figure(figsize=(10,10))\n",
    "    plt.plot(x,y,'r.',label=titulo)\n",
    "    plt.xlabel(xlabel)\n",
    "    plt.ylabel(ylabel)\n",
    "    plt.show()"
   ]
  },
  {
   "cell_type": "code",
   "execution_count": 2,
   "metadata": {
    "scrolled": true
   },
   "outputs": [],
   "source": [
    "import unicodecsv\n",
    "\n",
    "#Aqui são abertos os arquivos de matriculas e concluintes e transformados em uma lista de dicionarios, cada um\n",
    "\n",
    "ingressantes_filename = 'dados/ingressantes.dll'\n",
    "concluintes_filename = 'dados/concluintes.dll'\n",
    "vagas_filename = 'dados/vagas_por_ano.csv'\n",
    "\n",
    "def read_csv(filename):\n",
    "    with open(filename, 'rb') as f:\n",
    "        reader = unicodecsv.DictReader(f)\n",
    "        return list(reader)\n",
    "    \n",
    "ingressantes = read_csv(ingressantes_filename)\n",
    "concluintes = read_csv(concluintes_filename)\n",
    "vagas = read_csv(vagas_filename)\n",
    "    "
   ]
  },
  {
   "cell_type": "code",
   "execution_count": 3,
   "metadata": {
    "scrolled": false
   },
   "outputs": [],
   "source": [
    "# Organizando os dados\n",
    "\n",
    "# Arrumando os tipos de dados e apagando colunas repetidas ou cujo valor vai ser sempre 0\n",
    "\n",
    "for c in concluintes:\n",
    "    c['Número de Concluintes'] = int(c['Número de Concluintes'])\n",
    "    c['Ano Censo'] = c['\\ufeffAno Censo']\n",
    "    del c['\\ufeffAno Censo'] \n",
    "    del c['Região - Região'] \n",
    "    del c['UF - Curso']\n",
    "    del c['Id Categoria Administrativa']\n",
    "\n",
    "for index, c in enumerate(concluintes):\n",
    "    if(c['UF'] == \"-\"):\n",
    "        del concluintes[index]\n",
    "        \n",
    "\n",
    "for i in ingressantes:\n",
    "    i['Número de Ingressos'] = int(i['Número de Ingressos'])\n",
    "    i['Ano Censo'] = i['\\ufeffAno Censo']\n",
    "    del i['\\ufeffAno Censo']\n",
    "    del i['Id Categoria Administrativa']\n",
    "    \n",
    "\n",
    "estados = []\n",
    "for concluinte in concluintes:\n",
    "    if(concluinte['UF'] not in estados):\n",
    "        estados.append(concluinte['UF'])\n",
    "estados.sort()"
   ]
  },
  {
   "cell_type": "code",
   "execution_count": 4,
   "metadata": {
    "collapsed": true
   },
   "outputs": [],
   "source": [
    "#Obtendo dicionarios do número de concluintes em escolas públicas, priv\n",
    "concluintes_publica_num = {}\n",
    "concluintes_privada_num = {}\n",
    "concluintes_total = {}\n",
    "\n",
    "for e in estados:\n",
    "    concluintes_publica_num[e] = 0\n",
    "    concluintes_privada_num[e]= 0\n",
    "    concluintes_total[e] = 0\n",
    "\n",
    "for concluinte in concluintes:\n",
    "    estado = concluinte['UF']\n",
    "    tipo = concluinte['Categoria Administrativa']\n",
    "    if(tipo == 'PÚBLICA'):\n",
    "        concluintes_publica_num[estado] += concluinte['Número de Concluintes']\n",
    "    elif(tipo == 'PRIVADA'):\n",
    "        concluintes_privada_num[estado] += concluinte['Número de Concluintes']\n",
    "    concluintes_total[estado] += concluinte['Número de Concluintes']\n"
   ]
  },
  {
   "cell_type": "code",
   "execution_count": 5,
   "metadata": {},
   "outputs": [
    {
     "data": {
      "image/png": "[encoded data removed]",
      "text/plain": [
       "<matplotlib.figure.Figure at 0x2309e8fc748>"
      ]
     },
     "metadata": {},
     "output_type": "display_data"
    },
    {
     "data": {
      "image/png": "[encoded data removed]",
      "text/plain": [
       "<matplotlib.figure.Figure at 0x2309e8fca90>"
      ]
     },
     "metadata": {},
     "output_type": "display_data"
    }
   ],
   "source": [
    "#Visualização dos dados gerados acima\n",
    "generate_bar_graph(\"Número de concluintes por estado brasileiro\", range(27), list(concluintes_total.values()), \"Estados em ordem alfabética\", \"Número de concluintes\")\n",
    "generate_many_line_graph(\"a\", range(27), list(concluintes_privada_num.values()), list(concluintes_publica_num.values()), \"a\", \"b\")"
   ]
  },
  {
   "cell_type": "code",
   "execution_count": 6,
   "metadata": {},
   "outputs": [],
   "source": [
    "#plota_barra_linha(\"Relação de concluintes em escolas públicas x privadas\", range(28), list(concluintes_publica_num.values()), list(concluintes_privada_num.values()), \"Estados em ordem alfabética\", \"Número de concluintes\")"
   ]
  },
  {
   "cell_type": "code",
   "execution_count": 7,
   "metadata": {},
   "outputs": [
    {
     "data": {
      "text/plain": [
       "{'2009': 5145973.0,\n",
       " '2010': 6440052.999999995,\n",
       " '2011': 4474330.999999996,\n",
       " '2012': 4672667.999999997,\n",
       " '2013': 5875380.999999998}"
      ]
     },
     "execution_count": 7,
     "metadata": {},
     "output_type": "execute_result"
    }
   ],
   "source": [
    "anos = []\n",
    "for c in concluintes:\n",
    "    if(c['Ano Censo'] not in anos):\n",
    "        anos.append(c['Ano Censo'])\n",
    "anos.sort()\n",
    "\n",
    "concluintes_por_ano = {}\n",
    "ingressantes_por_ano = {}\n",
    "vagas_por_ano = {}\n",
    "\n",
    "for a in anos:\n",
    "    concluintes_por_ano[a] = 0\n",
    "    ingressantes_por_ano[a] = 0\n",
    "    vagas_por_ano[a] = 0\n",
    "\n",
    "for concluinte in concluintes:\n",
    "    ano = concluinte['Ano Censo']\n",
    "    concluintes_por_ano[ano] += concluinte['Número de Concluintes']\n",
    "\n",
    "for ingressante in ingressantes:\n",
    "    ano = ingressante['Ano Censo']\n",
    "    ingressantes_por_ano[ano] += ingressante['Número de Ingressos']\n",
    "\n",
    "for vaga in vagas:\n",
    "    ano = vaga['Ano Censo']\n",
    "    vagas_por_ano[ano] += float(vaga['Número de Vagas Oferecidas'].replace(\",\",\".\"))\n",
    "\n",
    "\n",
    "vagas_por_ano\n",
    "\n"
   ]
  },
  {
   "cell_type": "code",
   "execution_count": 8,
   "metadata": {},
   "outputs": [],
   "source": [
    "#generate_many_line_graph(\"Concluintes e ingressantes por ano\", range(len(anos)), list(concluintes_por_ano.values()), list(ingressantes_por_ano.values()), \"a\", \"b\")"
   ]
  },
  {
   "cell_type": "code",
   "execution_count": 9,
   "metadata": {},
   "outputs": [
    {
     "data": {
      "image/png": "[encoded data removed]",
      "text/plain": [
       "<matplotlib.figure.Figure at 0x2309e8f1400>"
      ]
     },
     "metadata": {},
     "output_type": "display_data"
    },
    {
     "data": {
      "text/plain": [
       "<matplotlib.figure.Figure at 0x2309f09bda0>"
      ]
     },
     "metadata": {},
     "output_type": "display_data"
    }
   ],
   "source": [
    "plota_grafico_dispersao(\"Número vagas x Número ingressantes\", list(vagas_por_ano.values()), list(ingressantes_por_ano.values()), \"nº vagas\", \"nº ingressantes\")"
   ]
  },
  {
   "cell_type": "code",
   "execution_count": 10,
   "metadata": {},
   "outputs": [
    {
     "data": {
      "text/plain": [
       "{'2009': 5145973.0,\n",
       " '2010': 6440052.999999995,\n",
       " '2011': 4474330.999999996,\n",
       " '2012': 4672667.999999997,\n",
       " '2013': 5875380.999999998}"
      ]
     },
     "execution_count": 10,
     "metadata": {},
     "output_type": "execute_result"
    }
   ],
   "source": [
    "vagas_por_ano"
   ]
  },
  {
   "cell_type": "code",
   "execution_count": 11,
   "metadata": {},
   "outputs": [
    {
     "data": {
      "text/plain": [
       "{'2009': 2065082,\n",
       " '2010': 1970978,\n",
       " '2011': 2355524,\n",
       " '2012': 2747089,\n",
       " '2013': 2742950}"
      ]
     },
     "execution_count": 11,
     "metadata": {},
     "output_type": "execute_result"
    }
   ],
   "source": [
    "ingressantes_por_ano"
   ]
  },
  {
   "cell_type": "code",
   "execution_count": null,
   "metadata": {
    "collapsed": true
   },
   "outputs": [],
   "source": []
  }
 ],
 "metadata": {
  "kernelspec": {
   "display_name": "Python 3",
   "language": "python",
   "name": "python3"
  },
  "language_info": {
   "codemirror_mode": {
    "name": "ipython",
    "version": 3
   },
   "file_extension": ".py",
   "mimetype": "text/x-python",
   "name": "python",
   "nbconvert_exporter": "python",
   "pygments_lexer": "ipython3",
   "version": "3.6.1"
  }
 },
 "nbformat": 4,
 "nbformat_minor": 2
}
