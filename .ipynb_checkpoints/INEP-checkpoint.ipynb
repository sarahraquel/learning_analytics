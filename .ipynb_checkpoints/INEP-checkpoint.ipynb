{
 "cells": [
  {
   "cell_type": "code",
   "execution_count": null,
   "metadata": {
    "collapsed": true
   },
   "outputs": [],
   "source": [
    "import unicodecsv\n",
    "\n",
    "matriculas_filename = 'dados/matriculas.csv'\n",
    "concluintes_filename = 'dados/concluintes.csv'\n",
    "\n",
    "\n",
    "with open(matriculas_filename, 'rb') as f:\n",
    "    reader = unicodecsv.DictReader(f)\n",
    "    matriculas = list(reader)"
   ]
  }
 ],
 "metadata": {
  "kernelspec": {
   "display_name": "Python 3",
   "language": "python",
   "name": "python3"
  },
  "language_info": {
   "codemirror_mode": {
    "name": "ipython",
    "version": 3
   },
   "file_extension": ".py",
   "mimetype": "text/x-python",
   "name": "python",
   "nbconvert_exporter": "python",
   "pygments_lexer": "ipython3",
   "version": "3.6.1"
  }
 },
 "nbformat": 4,
 "nbformat_minor": 2
}
