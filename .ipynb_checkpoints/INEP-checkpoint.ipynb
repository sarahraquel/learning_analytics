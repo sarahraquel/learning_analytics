{
 "cells": [
  {
   "cell_type": "markdown",
   "metadata": {},
   "source": [
    "# Objetivo:\n",
    "\n",
    "1)Mostre médias, medianas, modas e desvio padrão\n",
    "\n",
    "2)Mostre números mínimos e máximos, de pelo menos duas variáveis, e suas amplitudes\n",
    "\n",
    "3)Pelo menos dois gráficos de Barras\n",
    "\n",
    "4)Pelo menos dois gráficos de Linhas\n",
    "\n",
    "5)Pelo menos dois gráficos Blox Pot\n",
    "\n",
    "6)Pelo menos dois gráficos de Correlação\n",
    "\n",
    "Para cada item acima justifique as informações escolhidas e explique os resultados obtidos\n",
    "(considerando os conceitos discutidos em sala de aula).\n",
    "\n"
   ]
  },
  {
   "cell_type": "markdown",
   "metadata": {},
   "source": [
    "**Precisamos definir dados a serem analisados** <br />\n",
    "Enquanto eles não foram definidos pela equipe, comecei a fazer uma análise para verificar se a relação entre alunos ingressantes x concluintes é diferente nas regiões do Brasil. \n",
    "<br /> **Sugestões de dados a serem analisados:::::** <br />\n",
    "\n"
   ]
  },
  {
   "cell_type": "code",
   "execution_count": 90,
   "metadata": {
    "collapsed": true
   },
   "outputs": [],
   "source": [
    "# Funções para visualização dos dados\n",
    "\n",
    "from matplotlib import pyplot as plt\n",
    "import numpy as np\n",
    "\n",
    "def generate_bar_graph(x, y, xlabel,ylabel):\n",
    "    plt.bar(x, y)\n",
    "    plt.title(\"Grafico de Barra\")\n",
    "    plt.xlabel(xlabel)\n",
    "    plt.ylabel(ylabel)\n",
    "    plt.show()\n",
    "\n",
    "def generate_line_graph(x, y, xlabel, ylabel):\n",
    "    plt.plot(x, y, color=\"green\", marker=\"o\", linestyle='solid')\n",
    "    plt.title(\"Grafico de linha\")\n",
    "    plt.xlabel(xlabel)\n",
    "    plt.ylabel(ylabel)\n",
    "    plt.show()\n",
    "\n",
    "def get_media(array):\n",
    "    return np.mean(array)\n",
    "\n",
    "def get_median(array):\n",
    "    return np.median(array)\n",
    "\n",
    "def get_mode(array):\n",
    "    return np.bincount(array).argmax()"
   ]
  },
  {
   "cell_type": "code",
   "execution_count": 72,
   "metadata": {},
   "outputs": [
    {
     "name": "stdout",
     "output_type": "stream",
     "text": [
      "OrderedDict([('\\ufeffAno Censo', '2013'), ('Número de Ingressos', '9158'), ('Id Categoria Administrativa', '1'), ('Sub Categoria Administrativa', 'FEDERAL'), ('Categoria Administrativa', 'PÚBLICA'), ('Região', 'CENTRO-OESTE'), ('UF', 'DISTRITO FEDERAL')])\n"
     ]
    },
    {
     "data": {
      "text/plain": [
       "OrderedDict([('\\ufeffAno Censo', '2013'),\n",
       "             ('Número de Concluintes', '7522'),\n",
       "             ('Id Categoria Administrativa', '1'),\n",
       "             ('Categoria Administrativa', 'PÚBLICA'),\n",
       "             ('Sub Categoria Administrativa', 'FEDERAL'),\n",
       "             ('Abrangência Geográfica (Curso)', 'CENTRO-OESTE'),\n",
       "             ('UF - Curso', ''),\n",
       "             ('Região - Região', 'CENTRO-OESTE'),\n",
       "             ('Região', 'CENTRO-OESTE'),\n",
       "             ('UF', 'GOIÁS')])"
      ]
     },
     "execution_count": 72,
     "metadata": {},
     "output_type": "execute_result"
    }
   ],
   "source": [
    "import unicodecsv\n",
    "\n",
    "#Aqui são abertos os arquivos de matriculas e concluintes e transformados em uma lista de dicionarios, cada um\n",
    "\n",
    "ingressantes_filename = 'dados/ingressantes.dll'\n",
    "concluintes_filename = 'dados/concluintes.dll'\n",
    "\n",
    "\n",
    "def read_csv(filename):\n",
    "    with open(filename, 'rb') as f:\n",
    "        reader = unicodecsv.DictReader(f)\n",
    "        return list(reader)\n",
    "    \n",
    "ingressantes = read_csv(ingressantes_filename)\n",
    "concluintes = read_csv(concluintes_filename)\n",
    "    \n",
    "print(ingressantes[0])\n",
    "concluintes[55]"
   ]
  },
  {
   "cell_type": "code",
   "execution_count": 73,
   "metadata": {},
   "outputs": [],
   "source": [
    "# Organizando os dados\n",
    "\n",
    "# Arrumando os tipos de dados e apagando colunas repetidas ou cujo valor vai ser sempre 0\n",
    "\n",
    "for c in concluintes:\n",
    "    c['Número de Concluintes'] = int(c['Número de Concluintes'])\n",
    "    c['Ano Censo'] = c['\\ufeffAno Censo']\n",
    "    del c['\\ufeffAno Censo']\n",
    "    del c['Região - Região'] \n",
    "    del c['UF - Curso']\n",
    "    del c['Id Categoria Administrativa']\n",
    "\n",
    "\n",
    "     \n",
    "for i in ingressantes:\n",
    "    i['Número de Ingressos'] = int(i['Número de Ingressos'])\n",
    "    i['Ano Censo'] = i['\\ufeffAno Censo']\n",
    "    del i['\\ufeffAno Censo']\n",
    "    del i['Id Categoria Administrativa']\n",
    "    \n"
   ]
  },
  {
   "cell_type": "code",
   "execution_count": 79,
   "metadata": {},
   "outputs": [
    {
     "data": {
      "text/plain": [
       "OrderedDict([('Número de Ingressos', 2391),\n",
       "             ('Sub Categoria Administrativa', 'ESTADUAL'),\n",
       "             ('Categoria Administrativa', 'PÚBLICA'),\n",
       "             ('Região', 'CENTRO-OESTE'),\n",
       "             ('UF', 'MATO GROSSO DO SUL'),\n",
       "             ('Ano Censo', '2013')])"
      ]
     },
     "execution_count": 79,
     "metadata": {},
     "output_type": "execute_result"
    }
   ],
   "source": [
    "ingressantes[30]"
   ]
  },
  {
   "cell_type": "code",
   "execution_count": 78,
   "metadata": {},
   "outputs": [
    {
     "data": {
      "text/plain": [
       "OrderedDict([('Número de Concluintes', 4592),\n",
       "             ('Categoria Administrativa', 'PÚBLICA'),\n",
       "             ('Sub Categoria Administrativa', 'FEDERAL'),\n",
       "             ('Abrangência Geográfica (Curso)', 'BRASIL'),\n",
       "             ('Região', 'CENTRO-OESTE'),\n",
       "             ('UF', 'MATO GROSSO DO SUL'),\n",
       "             ('Ano Censo', '2013')])"
      ]
     },
     "execution_count": 78,
     "metadata": {},
     "output_type": "execute_result"
    }
   ],
   "source": [
    "concluintes[30]"
   ]
  },
  {
   "cell_type": "code",
   "execution_count": 82,
   "metadata": {},
   "outputs": [
    {
     "name": "stdout",
     "output_type": "stream",
     "text": [
      "356\n",
      "105\n",
      "46\n",
      "59\n"
     ]
    }
   ],
   "source": [
    "sucess = 0\n",
    "fail = 0\n",
    "for estado in \n",
    "        \n",
    "print(len(concluintes))\n",
    "print(len(ingressantes))\n",
    "print (sucess)\n",
    "print (fail)"
   ]
  },
  {
   "cell_type": "code",
   "execution_count": 95,
   "metadata": {},
   "outputs": [
    {
     "data": {
      "image/png": "[encoded data removed]",
      "text/plain": [
       "<matplotlib.figure.Figure at 0x7f1cd87e7630>"
      ]
     },
     "metadata": {},
     "output_type": "display_data"
    }
   ],
   "source": [
    "\n",
    "yBar = [3, 10, 7]\n",
    "xBar = [1, 2, 3]\n",
    "z = [i * 1.5 for i in yBar]\n",
    "\n",
    "def plota_barra_linha(x, y, z):\n",
    "    plt.bar(x, y, color=\"black\", align='center')                 \n",
    "    plt.plot(x, z, color=\"green\", marker='o', linestyle='--', linewidth=2)\n",
    "    plt.show()    \n",
    "\n",
    "plota_barra_linha(xBar, yBar, z)"
   ]
  },
  {
   "cell_type": "code",
   "execution_count": 120,
   "metadata": {},
   "outputs": [
    {
     "data": {
      "text/plain": [
       "['ACRE',\n",
       " 'ALAGOAS',\n",
       " 'AMAPÁ',\n",
       " 'AMAZONAS',\n",
       " 'BAHIA',\n",
       " 'CEARÁ',\n",
       " 'DISTRITO FEDERAL',\n",
       " 'ESPÍRITO SANTO',\n",
       " 'GOIÁS',\n",
       " 'MARANHÃO',\n",
       " 'MATO GROSSO',\n",
       " 'MATO GROSSO DO SUL',\n",
       " 'MINAS GERAIS',\n",
       " 'PARANÁ',\n",
       " 'PARAÍBA',\n",
       " 'PARÁ',\n",
       " 'PERNAMBUCO',\n",
       " 'PIAUÍ',\n",
       " 'RIO DE JANEIRO',\n",
       " 'RIO GRANDE DO NORTE',\n",
       " 'RIO GRANDE DO SUL',\n",
       " 'RONDÔNIA',\n",
       " 'RORAIMA',\n",
       " 'SANTA CATARINA',\n",
       " 'SERGIPE',\n",
       " 'SÃO PAULO',\n",
       " 'TOCANTINS']"
      ]
     },
     "execution_count": 120,
     "metadata": {},
     "output_type": "execute_result"
    }
   ],
   "source": [
    "estados = []\n",
    "for concluinte in concluintes:\n",
    "    if(concluinte['UF'] not in estados):\n",
    "        estados.append(concluinte['UF'])\n",
    "estados.sort()\n",
    "\n",
    "estados_id = range(len(estados))\n",
    "estados\n",
    "\n",
    "\n"
   ]
  },
  {
   "cell_type": "code",
   "execution_count": 121,
   "metadata": {},
   "outputs": [
    {
     "data": {
      "text/plain": [
       "{'ACRE': 0,\n",
       " 'ALAGOAS': 0,\n",
       " 'AMAPÁ': 0,\n",
       " 'AMAZONAS': 0,\n",
       " 'BAHIA': 0,\n",
       " 'CEARÁ': 0,\n",
       " 'DISTRITO FEDERAL': 0,\n",
       " 'ESPÍRITO SANTO': 0,\n",
       " 'GOIÁS': 0,\n",
       " 'MARANHÃO': 0,\n",
       " 'MATO GROSSO': 0,\n",
       " 'MATO GROSSO DO SUL': 0,\n",
       " 'MINAS GERAIS': 0,\n",
       " 'PARANÁ': 0,\n",
       " 'PARAÍBA': 0,\n",
       " 'PARÁ': 0,\n",
       " 'PERNAMBUCO': 0,\n",
       " 'PIAUÍ': 0,\n",
       " 'RIO DE JANEIRO': 0,\n",
       " 'RIO GRANDE DO NORTE': 0,\n",
       " 'RIO GRANDE DO SUL': 0,\n",
       " 'RONDÔNIA': 0,\n",
       " 'RORAIMA': 0,\n",
       " 'SANTA CATARINA': 0,\n",
       " 'SERGIPE': 0,\n",
       " 'SÃO PAULO': 0,\n",
       " 'TOCANTINS': 0}"
      ]
     },
     "execution_count": 121,
     "metadata": {},
     "output_type": "execute_result"
    }
   ],
   "source": [
    "concluintes_num = {}\n",
    "\n",
    "for e in estados:\n",
    "    concluintes_num[e] = 0\n",
    "\n",
    "for indice, conc in enumerate(concluintes):\n",
    "    estado = conc['UF']\n",
    "    concluintes_num[estado] = concluintes_num[estado] + conc['Número de Concluintes']\n",
    "    '''#concluintes_num[] = \n",
    "    if conc['UF'] == estados[indice]:\n",
    "        print(\"Ok\")\n",
    "    print(concluintes['UF'])\n",
    "'''    \n",
    "concluintes_num\n"
   ]
  },
  {
   "cell_type": "code",
   "execution_count": null,
   "metadata": {
    "collapsed": true
   },
   "outputs": [],
   "source": [
    "plota_barra_linha(estados_id, concluintes_num, ingressantes_num)"
   ]
  }
 ],
 "metadata": {
  "kernelspec": {
   "display_name": "Python 3",
   "language": "python",
   "name": "python3"
  },
  "language_info": {
   "codemirror_mode": {
    "name": "ipython",
    "version": 3
   },
   "file_extension": ".py",
   "mimetype": "text/x-python",
   "name": "python",
   "nbconvert_exporter": "python",
   "pygments_lexer": "ipython3",
   "version": "3.6.1"
  }
 },
 "nbformat": 4,
 "nbformat_minor": 2
}
