{
 "cells": [
  {
   "cell_type": "code",
   "execution_count": 6,
   "metadata": {},
   "outputs": [
    {
     "data": {
      "text/plain": [
       "OrderedDict([('\\ufeffAno Censo', '2013'),\n",
       "             ('Número de Concluintes', '86'),\n",
       "             ('Id Categoria Administrativa', '1'),\n",
       "             ('Categoria Administrativa', 'PÚBLICA'),\n",
       "             ('Sub Categoria Administrativa', 'FEDERAL'),\n",
       "             ('Abrangência Geográfica (Curso)', '-'),\n",
       "             ('UF - Curso', ''),\n",
       "             ('Região - Região', ''),\n",
       "             ('Região', 'CENTRO-OESTE'),\n",
       "             ('UF', 'DISTRITO FEDERAL')])"
      ]
     },
     "execution_count": 6,
     "metadata": {},
     "output_type": "execute_result"
    }
   ],
   "source": [
    "import unicodecsv\n",
    "\n",
    "matriculas_filename = 'dados/matriculas.dll'\n",
    "concluintes_filename = 'dados/concluintes.dll'\n",
    "\n",
    "\n",
    "with open(matriculas_filename, 'rb') as f:\n",
    "    reader = unicodecsv.DictReader(f)\n",
    "    matriculas = list(reader)\n",
    "    \n",
    "with open(concluintes_filename, 'rb') as f:\n",
    "    reader = unicodecsv.DictReader(f)\n",
    "    concluintes = list(reader)\n",
    "    \n",
    "matriculas[0]\n",
    "concluintes[0]"
   ]
  },
  {
   "cell_type": "code",
   "execution_count": null,
   "metadata": {
    "collapsed": true
   },
   "outputs": [],
   "source": []
  }
 ],
 "metadata": {
  "kernelspec": {
   "display_name": "Python 3",
   "language": "python",
   "name": "python3"
  },
  "language_info": {
   "codemirror_mode": {
    "name": "ipython",
    "version": 3
   },
   "file_extension": ".py",
   "mimetype": "text/x-python",
   "name": "python",
   "nbconvert_exporter": "python",
   "pygments_lexer": "ipython3",
   "version": "3.6.1"
  }
 },
 "nbformat": 4,
 "nbformat_minor": 2
}
