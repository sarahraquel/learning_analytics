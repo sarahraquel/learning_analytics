{
 "cells": [
  {
   "cell_type": "markdown",
   "metadata": {},
   "source": [
    "# Objetivo:\n",
    "\n",
    "1)Mostre médias, medianas, modas e desvio padrão\n",
    "\n",
    "2)Mostre números mínimos e máximos, de pelo menos duas variáveis, e suas amplitudes\n",
    "\n",
    "3)Pelo menos dois gráficos de Barras\n",
    "\n",
    "4)Pelo menos dois gráficos de Linhas\n",
    "\n",
    "5)Pelo menos dois gráficos Blox Pot\n",
    "\n",
    "6)Pelo menos dois gráficos de Correlação\n",
    "\n",
    "Para cada item acima justifique as informações escolhidas e explique os resultados obtidos\n",
    "(considerando os conceitos discutidos em sala de aula).\n",
    "\n"
   ]
  },
  {
   "cell_type": "markdown",
   "metadata": {},
   "source": [
    "**Precisamos definir dados a serem analisados** <br />\n",
    "Enquanto eles não foram definidos pela equipe, comecei a fazer uma análise para verificar se a relação entre alunos ingressantes x concluintes é diferente nas regiões do Brasil. \n",
    "\n"
   ]
  },
  {
   "cell_type": "code",
   "execution_count": 8,
   "metadata": {},
   "outputs": [
    {
     "data": {
      "text/plain": [
       "OrderedDict([('\\ufeffAno Censo', '2013'),\n",
       "             ('Categoria Administrativa', 'PÚBLICA'),\n",
       "             ('Sub Categoria Administrativa', 'FEDERAL'),\n",
       "             ('Id Categoria Administrativa', '1'),\n",
       "             ('Número de Vínculos de Alunos', '30725'),\n",
       "             ('Região', 'CENTRO-OESTE'),\n",
       "             ('UF', 'DISTRITO FEDERAL'),\n",
       "             ('Nome Região', 'CENTRO-OESTE')])"
      ]
     },
     "execution_count": 8,
     "metadata": {},
     "output_type": "execute_result"
    }
   ],
   "source": [
    "import unicodecsv\n",
    "\n",
    "#Aqui são abertos os arquivos de matriculas e concluintes e transformados em uma lista de dicionarios, cada um\n",
    "\n",
    "matriculas_filename = 'dados/matriculas.dll'\n",
    "concluintes_filename = 'dados/concluintes.dll'\n",
    "\n",
    "\n",
    "def read_csv(filename):\n",
    "    with open(filename, 'rb') as f:\n",
    "        reader = unicodecsv.DictReader(f)\n",
    "        return list(reader)\n",
    "    \n",
    "matriculas = read_csv(matriculas_filename)\n",
    "concluintes = read_csv(concluintes_filename)\n",
    "    \n",
    "matriculas[0]"
   ]
  },
  {
   "cell_type": "code",
   "execution_count": null,
   "metadata": {
    "collapsed": true
   },
   "outputs": [],
   "source": []
  }
 ],
 "metadata": {
  "kernelspec": {
   "display_name": "Python 3",
   "language": "python",
   "name": "python3"
  },
  "language_info": {
   "codemirror_mode": {
    "name": "ipython",
    "version": 3
   },
   "file_extension": ".py",
   "mimetype": "text/x-python",
   "name": "python",
   "nbconvert_exporter": "python",
   "pygments_lexer": "ipython3",
   "version": "3.6.1"
  }
 },
 "nbformat": 4,
 "nbformat_minor": 2
}
