{
 "cells": [
  {
   "cell_type": "markdown",
   "metadata": {},
   "source": [
    "# Objetivo:\n",
    "\n",
    "1)Mostre médias, medianas, modas e desvio padrão\n",
    "\n",
    "2)Mostre números mínimos e máximos, de pelo menos duas variáveis, e suas amplitudes\n",
    "\n",
    "3)Pelo menos dois gráficos de Barras (Sarah - ok)\n",
    "\n",
    "4)Pelo menos dois gráficos de Linhas (Sarah - ok)\n",
    "\n",
    "5)Pelo menos dois gráficos Blox Pot <br/>\n",
    "\n",
    "\n",
    "6)Pelo menos dois gráficos de Correlação <br/>\n",
    "-Relação Número de instituições x número ingressantes <br/>\n",
    "Pensando intuitivamente, com o crescimento de instituições, o número de ingressantes também deve crescer. No gráfico, percebemos que a relação não é forte como esperávamos. Uma possível causa seria que nesse ano com o número maior de instituições e um número menor de ingressantes houve interferências econômicas (principalmente para instituições privadas).<br/>\n",
    "\n",
    "-Número de instituições x número de matrículas <br/>\n",
    "Outro pensamento intuitivo é que o número de instituições está relacionado ao número de matrículas. Nesse gráfico, é possível enxergar uma relação um pouco mais forte (apesar de ainda ser considerada fraca) que o gráfico anterior. Portanto, o gráfico aponta que existe uma influencia na quantidade de instituições em relação à quantidade de matrículas.<br/>\n",
    "\n",
    "Para cada item acima justifique as informações escolhidas e explique os resultados obtidos\n",
    "(considerando os conceitos discutidos em sala de aula).\n",
    "\n"
   ]
  },
  {
   "cell_type": "code",
   "execution_count": null,
   "metadata": {
    "collapsed": true
   },
   "outputs": [],
   "source": [
    "# Funções para visualização dos dados\n",
    "\n",
    "from matplotlib import pyplot as plt\n",
    "import numpy as np\n",
    "\n",
    "def generate_bar_graph(title, x, y, xticks, xlabel,ylabel):\n",
    "    plt.figure(figsize=(15,5))\n",
    "    plt.bar(x, y)\n",
    "    plt.title(title)\n",
    "    plt.xlabel(xlabel)\n",
    "    plt.ylabel(ylabel)\n",
    "    if (xticks != None):\n",
    "        plt.xticks(x,xticks)\n",
    "    plt.show()\n",
    "\n",
    "def generate_many_line_graph(title, x, y, z, xticks, xlabel, ylabel):\n",
    "    plt.figure(figsize=(15,5))\n",
    "    plt.plot(x, y, color=\"green\", marker=\"o\", linestyle='solid')\n",
    "    plt.plot(x, z, color=\"blue\", marker=\"o\", linestyle='solid')\n",
    "    plt.title(title)\n",
    "    plt.xlabel(xlabel)\n",
    "    plt.ylabel(ylabel)\n",
    "    if (xticks != None):\n",
    "        plt.xticks(x,xticks)\n",
    "    plt.show()\n",
    "    \n",
    "def generate_line_graph(title, x, y, xlabel, ylabel):\n",
    "    plt.plot(x, y, color=\"green\", marker=\"o\", linestyle='solid')\n",
    "    plt.title(title)\n",
    "    plt.xlabel(xlabel)\n",
    "    plt.ylabel(ylabel)\n",
    "    plt.show()\n",
    "\n",
    "def get_media(array):\n",
    "    return np.mean(array)\n",
    "\n",
    "def get_median(array):\n",
    "    return np.median(array)\n",
    "\n",
    "def get_mode(array):\n",
    "    return np.bincount(array).argmax()\n",
    "\n",
    "def get_desvio_padrao(array):\n",
    "    return np.sqrt(np.var(array))\n",
    "\n",
    "def plota_barra_linha(title, x, y, z, xticks, xlabel, ylabel):\n",
    "    plt.figure(figsize=(15,5))\n",
    "    plt.xlabel(xlabel)\n",
    "    plt.ylabel(ylabel)\n",
    "    plt.title(title)\n",
    "    plt.bar(x, y, color=\"black\", align='center')                 \n",
    "    plt.plot(x, z, color=\"green\", marker='o', linestyle='--', linewidth=2)\n",
    "    if (xticks != None):\n",
    "        plt.xticks(x,xticks)\n",
    "    plt.show()\n",
    "    \n",
    "def plota_grafico_dispersao(titulo, x, y, xlabel, ylabel):\n",
    "    plt.figure(figsize=(10,5))\n",
    "    plt.title(titulo)\n",
    "    plt.plot(x,y,'r.',label=titulo)\n",
    "    plt.xlabel(xlabel)\n",
    "    plt.ylabel(ylabel)\n",
    "    plt.show()\n",
    "\n",
    "def generate_box_plot(data, labels):\n",
    "    plt.boxplot(data, labels=labels, showfliers=False)\n",
    "    plt.show()"
   ]
  },
  {
   "cell_type": "code",
   "execution_count": null,
   "metadata": {
    "collapsed": true,
    "scrolled": true
   },
   "outputs": [],
   "source": [
    "import unicodecsv\n",
    "\n",
    "#Aqui são abertos os arquivos de matriculas e concluintes e transformados em uma lista de dicionarios, cada um\n",
    "\n",
    "ingressantes_filename = 'dados/ingressantes.dll'\n",
    "concluintes_filename = 'dados/concluintes.dll'\n",
    "vagas_filename = 'dados/vagas_por_ano.csv'\n",
    "instituicoes_filename = 'dados/instituicoes.dll'\n",
    "matriculas_filename = 'dados/matriculas.dll'\n",
    "\n",
    "def read_csv(filename):\n",
    "    with open(filename, 'rb') as f:\n",
    "        reader = unicodecsv.DictReader(f)\n",
    "        return list(reader)\n",
    "    \n",
    "ingressantes = read_csv(ingressantes_filename)\n",
    "concluintes = read_csv(concluintes_filename)\n",
    "vagas = read_csv(vagas_filename)\n",
    "instituicoes = read_csv(instituicoes_filename)\n",
    "matriculas = read_csv(matriculas_filename)"
   ]
  },
  {
   "cell_type": "code",
   "execution_count": null,
   "metadata": {
    "collapsed": true,
    "scrolled": false
   },
   "outputs": [],
   "source": [
    "# Organizando os dados\n",
    "\n",
    "# Arrumando os tipos de dados e apagando colunas repetidas ou cujo valor vai ser sempre 0\n",
    "\n",
    "for c in concluintes:\n",
    "    c['Número de Concluintes'] = int(c['Número de Concluintes'])\n",
    "    c['Ano Censo'] = c['\\ufeffAno Censo']\n",
    "    del c['\\ufeffAno Censo'] \n",
    "    del c['Região - Região'] \n",
    "    del c['UF - Curso']\n",
    "    del c['Id Categoria Administrativa']\n",
    "\n",
    "for index, c in enumerate(concluintes):\n",
    "    if(c['UF'] == \"-\"):\n",
    "        del concluintes[index]\n",
    "        \n",
    "\n",
    "for i in ingressantes:\n",
    "    i['Número de Ingressos'] = int(i['Número de Ingressos'])\n",
    "    i['Ano Censo'] = i['\\ufeffAno Censo']\n",
    "    del i['\\ufeffAno Censo']\n",
    "    del i['Id Categoria Administrativa']\n",
    "    \n",
    "for inst in instituicoes:\n",
    "    inst['Ano Censo'] = inst['\\ufeffAno Censo']\n",
    "    inst['Número de Instituições de Educação Superior'] = int(inst['Número de Instituições de Educação Superior'])\n",
    "    \n",
    "for mat in matriculas:\n",
    "    mat['Ano Censo'] = mat['\\ufeffAno Censo']\n",
    "    mat['Número de Vínculos de Alunos'] = int(mat['Número de Vínculos de Alunos'])\n",
    "    \n",
    "estados = []\n",
    "for concluinte in concluintes:\n",
    "    if(concluinte['UF'] not in estados):\n",
    "        estados.append(concluinte['UF'])\n",
    "estados.sort()\n",
    "\n",
    "def get_ufs(estados):\n",
    "    ufs = {\n",
    "        'ACRE': 'AC',\n",
    "        'ALAGOAS': 'AL',\n",
    "        'AMAPÁ': 'AP',\n",
    "        'AMAZONAS': 'AM',\n",
    "        'BAHIA': 'BA',\n",
    "        'CEARÁ': 'CE',\n",
    "        'DISTRITO FEDERAL': 'DF',\n",
    "        'ESPÍRITO SANTO': 'ES',\n",
    "        'GOIÁS': 'GO',\n",
    "        'MARANHÃO': 'MA',\n",
    "        'MATO GROSSO': 'MT',\n",
    "        'MATO GROSSO DO SUL': 'MS',\n",
    "        'MINAS GERAIS': 'MG',\n",
    "        'PARÁ': 'PA',\n",
    "        'PARAÍBA': 'PB',\n",
    "        'PARANÁ':'PR',\n",
    "        'PERNAMBUCO': 'PE',\n",
    "        'PIAUÍ': 'PI',\n",
    "        'RIO DE JANEIRO': 'RJ',\n",
    "        'RIO GRANDE DO NORTE': 'RN',\n",
    "        'RIO GRANDE DO SUL':'RS',\n",
    "        'RONDÔNIA': 'RO',\n",
    "        'RORAIMA': 'RR',\n",
    "        'SANTA CATARINA': 'SC',\n",
    "        'SÃO PAULO': 'SP',\n",
    "        'SERGIPE': 'SE',\n",
    "        'TOCANTINS': 'TO'\n",
    "    }\n",
    "    list_ufs = []\n",
    "    for estado in estados:\n",
    "        list_ufs.append(ufs[estado])\n",
    "        \n",
    "    return list_ufs"
   ]
  },
  {
   "cell_type": "code",
   "execution_count": null,
   "metadata": {
    "collapsed": true
   },
   "outputs": [],
   "source": [
    "#Obtendo dicionarios do número de concluintes em escolas públicas, priv\n",
    "concluintes_publica_num = {}\n",
    "concluintes_privada_num = {}\n",
    "concluintes_total = {}\n",
    "\n",
    "for e in estados:\n",
    "    concluintes_publica_num[e] = 0\n",
    "    concluintes_privada_num[e]= 0\n",
    "    concluintes_total[e] = 0\n",
    "\n",
    "for concluinte in concluintes:\n",
    "    estado = concluinte['UF']\n",
    "    tipo = concluinte['Categoria Administrativa']\n",
    "    if(tipo == 'PÚBLICA'):\n",
    "        concluintes_publica_num[estado] += concluinte['Número de Concluintes']\n",
    "    elif(tipo == 'PRIVADA'):\n",
    "        concluintes_privada_num[estado] += concluinte['Número de Concluintes']\n",
    "    concluintes_total[estado] += concluinte['Número de Concluintes']\n"
   ]
  },
  {
   "cell_type": "code",
   "execution_count": null,
   "metadata": {},
   "outputs": [],
   "source": [
    "#Visualização dos dados gerados acima\n",
    "generate_bar_graph(\"Número de concluintes por estado brasileiro\", range(27), list(concluintes_total.values()), get_ufs(estados), \"Estados em ordem alfabética\", \"Número de concluintes\")\n",
    "generate_many_line_graph(\"a\", range(27), list(concluintes_privada_num.values()), list(concluintes_publica_num.values()), get_ufs(estados), \"a\", \"b\")"
   ]
  },
  {
   "cell_type": "code",
   "execution_count": null,
   "metadata": {},
   "outputs": [],
   "source": [
    "plota_barra_linha(\"Relação de concluintes em escolas públicas x privadas\", range(27), list(concluintes_publica_num.values()), list(concluintes_privada_num.values()), get_ufs(estados),\"Estados em ordem alfabética\", \"Número de concluintes\")"
   ]
  },
  {
   "cell_type": "code",
   "execution_count": null,
   "metadata": {
    "collapsed": true
   },
   "outputs": [],
   "source": [
    "anos = []\n",
    "for c in concluintes:\n",
    "    if(c['Ano Censo'] not in anos):\n",
    "        anos.append(c['Ano Censo'])\n",
    "anos.sort()\n",
    "\n",
    "concluintes_por_ano = {}\n",
    "ingressantes_por_ano = {}\n",
    "vagas_por_ano = {}\n",
    "instituicoes_por_ano = {}\n",
    "matriculas_por_ano = {}\n",
    "\n",
    "for a in anos:\n",
    "    concluintes_por_ano[a] = 0\n",
    "    ingressantes_por_ano[a] = 0\n",
    "    vagas_por_ano[a] = 0\n",
    "    instituicoes_por_ano[a] = 0\n",
    "    matriculas_por_ano[a] = 0\n",
    "\n",
    "for concluinte in concluintes:\n",
    "    ano = concluinte['Ano Censo']\n",
    "    concluintes_por_ano[ano] += concluinte['Número de Concluintes']\n",
    "\n",
    "for ingressante in ingressantes:\n",
    "    ano = ingressante['Ano Censo']\n",
    "    ingressantes_por_ano[ano] += ingressante['Número de Ingressos']\n",
    "\n",
    "for vaga in vagas:\n",
    "    ano = vaga['Ano Censo']\n",
    "    vagas_por_ano[ano] += float(vaga['Número de Vagas Oferecidas'].replace(\",\",\".\"))\n",
    "    \n",
    "for inst in instituicoes:\n",
    "    ano = inst['Ano Censo']\n",
    "    instituicoes_por_ano[ano] += inst['Número de Instituições de Educação Superior']\n",
    "\n",
    "for mat in matriculas:\n",
    "    ano = mat['Ano Censo']\n",
    "    matriculas_por_ano[ano] += mat['Número de Vínculos de Alunos']\n"
   ]
  },
  {
   "cell_type": "code",
   "execution_count": null,
   "metadata": {},
   "outputs": [],
   "source": [
    "plota_grafico_dispersao(\"Número instituições x Número ingressantes\", list(instituicoes_por_ano.values()), list(ingressantes_por_ano.values()), \"nº instituições\", \"nº ingressantes\")\n",
    "plota_grafico_dispersao(\"Número instituições x Número matrículas\", list(instituicoes_por_ano.values()), list(matriculas_por_ano.values()), \"nº instituições\", \"nº matrículas\")"
   ]
  },
  {
   "cell_type": "markdown",
   "metadata": {},
   "source": [
    "## Gráficos Box Plot"
   ]
  },
  {
   "cell_type": "code",
   "execution_count": null,
   "metadata": {},
   "outputs": [],
   "source": [
    "dados_ingressantes = [[int(key), value] for key, value in ingressantes_por_ano.items()]\n",
    "\n",
    "generate_box_plot(dados_ingressantes, ingressantes_por_ano.keys())"
   ]
  },
  {
   "cell_type": "code",
   "execution_count": null,
   "metadata": {
    "scrolled": false
   },
   "outputs": [],
   "source": [
    "dados_concluintes = [[int(key), value] for key, value in concluintes_por_ano.items()]\n",
    "generate_box_plot(dados_concluintes, concluintes_por_ano.keys())"
   ]
  },
  {
   "cell_type": "code",
   "execution_count": null,
   "metadata": {
    "collapsed": true
   },
   "outputs": [],
   "source": [
    "import pandas as pd\n",
    "from bokeh.charts import BoxPlot, output_notebook, show\n",
    "from bokeh.layouts import gridplot"
   ]
  },
  {
   "cell_type": "code",
   "execution_count": null,
   "metadata": {
    "collapsed": true
   },
   "outputs": [],
   "source": [
    "# Anos dos Censos realizados\n",
    "YEARS = ['2009', '2010', '2011', '2012', '2013']"
   ]
  },
  {
   "cell_type": "code",
   "execution_count": null,
   "metadata": {
    "collapsed": true
   },
   "outputs": [],
   "source": [
    "frames = []\n",
    "\n",
    "for year in YEARS:\n",
    "    file_path = 'dados/funcoes-docentes-educacao-superior/funcoes-docentes-educacao-superior-{}.csv'.format(year)\n",
    "    df = pd.read_csv(file_path, encoding = 'utf-8', sep = ',')\n",
    "    frames.append(df)\n",
    "\n",
    "funcoes_docentes_df = pd.concat(frames)\n",
    "\n",
    "# Filtrar apenas dados relevantes para UF\n",
    "funcoes_docentes_df.dropna(subset=['UF'], inplace = True)\n",
    "\n",
    "frames = []\n",
    "\n",
    "for year in YEARS:\n",
    "    file_path = 'dados/numero-de-matriculas-educacao-superior/numero-de-matriculas-educacao-superior-{}.csv'.format(year)\n",
    "    df = pd.read_csv(file_path, encoding = 'utf-8', sep = ',')\n",
    "    df = df.groupby(['UF', 'Ano Censo'])['Número de Vínculos de Alunos'].sum().reset_index()\n",
    "    frames.append(df)\n",
    "\n",
    "numero_matriculas_df = pd.concat(frames)\n",
    "\n",
    "# Remover código 'UF' inválido\n",
    "numero_matriculas_df = numero_matriculas_df[numero_matriculas_df['UF'] != '-']"
   ]
  },
  {
   "cell_type": "code",
   "execution_count": null,
   "metadata": {
    "collapsed": true
   },
   "outputs": [],
   "source": [
    "boxplot_funcoes_docentes = BoxPlot(\n",
    "    funcoes_docentes_df,\n",
    "    values = 'Número de Funções Docentes',\n",
    "    label  = 'Ano Censo',\n",
    "    color  = 'Ano Censo',\n",
    "    xlabel = 'Ano do Censo',\n",
    "    ylabel = 'Total de Funções Docentes por Estado',\n",
    "    title  = 'Total de Funções Docentes por Estado em Cada Censo'\n",
    ")\n",
    "\n",
    "boxplot_numero_matriculas = BoxPlot(\n",
    "    numero_matriculas_df,\n",
    "    values = 'Número de Vínculos de Alunos',\n",
    "    label  = 'Ano Censo',\n",
    "    color  = 'Ano Censo',\n",
    "    xlabel = 'Ano do Censo',\n",
    "    ylabel = 'Número de Vínculos de Alunos por Estado',\n",
    "    title  = 'Número de Vínculos de Alunos por Estado em Cada Censo'\n",
    ")\n",
    "\n",
    "boxplots = [boxplot_funcoes_docentes, boxplot_numero_matriculas]"
   ]
  },
  {
   "cell_type": "code",
   "execution_count": null,
   "metadata": {},
   "outputs": [],
   "source": [
    "grid = gridplot(boxplots, ncols=2, plot_width=460, plot_height=400)\n",
    "\n",
    "output_notebook()\n",
    "show(grid)"
   ]
  },
  {
   "cell_type": "code",
   "execution_count": null,
   "metadata": {},
   "outputs": [],
   "source": [
    "print(\"Media de concluintes por ano\")\n",
    "print(get_media(list(concluintes_por_ano.values())))\n",
    "print(\"Mediana de concluintes por ano\")\n",
    "print(get_median(list(concluintes_por_ano.values())))\n",
    "print(\"Moda de concluintes por ano\")\n",
    "print(get_mode(list(concluintes_por_ano.values())))\n",
    "print(\"Desvio padrão de concluintes por ano\")\n",
    "print(get_desvio_padrao(list(concluintes_por_ano.values())))"
   ]
  },
  {
   "cell_type": "code",
   "execution_count": null,
   "metadata": {
    "collapsed": true
   },
   "outputs": [],
   "source": []
  }
 ],
 "metadata": {
  "kernelspec": {
   "display_name": "Python 3",
   "language": "python",
   "name": "python3"
  },
  "language_info": {
   "codemirror_mode": {
    "name": "ipython",
    "version": 3
   },
   "file_extension": ".py",
   "mimetype": "text/x-python",
   "name": "python",
   "nbconvert_exporter": "python",
   "pygments_lexer": "ipython3",
   "version": "3.6.1"
  }
 },
 "nbformat": 4,
 "nbformat_minor": 2
}
